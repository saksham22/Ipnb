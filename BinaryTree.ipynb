{
  "nbformat": 4,
  "nbformat_minor": 0,
  "metadata": {
    "colab": {
      "name": "BinaryTree.ipynb",
      "version": "0.3.2",
      "provenance": [],
      "machine_shape": "hm",
      "include_colab_link": true
    },
    "kernelspec": {
      "name": "python3",
      "display_name": "Python 3"
    }
  },
  "cells": [
    {
      "cell_type": "markdown",
      "metadata": {
        "id": "view-in-github",
        "colab_type": "text"
      },
      "source": [
        "<a href=\"https://colab.research.google.com/github/saksham22/Ipnb/blob/master/BinaryTree.ipynb\" target=\"_parent\"><img src=\"https://colab.research.google.com/assets/colab-badge.svg\" alt=\"Open In Colab\"/></a>"
      ]
    },
    {
      "cell_type": "code",
      "metadata": {
        "id": "9wm12XF-8XO6",
        "colab_type": "code",
        "colab": {}
      },
      "source": [
        "class BinStruct:\n",
        "  def __init__(self,data):\n",
        "    self.data=data\n",
        "    self.left=None\n",
        "    self.right=None\n",
        "  def getData(self):\n",
        "    return self.data\n",
        "  def setData(self,data):\n",
        "    self.data=data\n",
        "   \n",
        "  def __str__(self):\n",
        "    return str(self.data)\n",
        "  def setLeft(self,left):\n",
        "    self.left=left\n",
        "  def setRight(self,Right):\n",
        "    self.right=Right\n",
        "    \n",
        "  def getLeft(self):\n",
        "    return self.left\n",
        "  def getRight(self):\n",
        "    return self.right\n",
        "  \n",
        "    "
      ],
      "execution_count": 0,
      "outputs": []
    },
    {
      "cell_type": "code",
      "metadata": {
        "id": "wf_3zmj28d_6",
        "colab_type": "code",
        "colab": {
          "base_uri": "https://localhost:8080/",
          "height": 67
        },
        "outputId": "3e176b9d-23b9-40f7-a0da-14e384be384c"
      },
      "source": [
        "a=BinStruct(5)\n",
        "b=BinStruct(4)\n",
        "c=BinStruct(6)\n",
        "\n",
        "a.setLeft(b)\n",
        "a.setRight(c)\n",
        "print(a)\n",
        "print(a.getLeft())\n",
        "print(a.getRight())\n"
      ],
      "execution_count": 4,
      "outputs": [
        {
          "output_type": "stream",
          "text": [
            "5\n",
            "4\n",
            "6\n"
          ],
          "name": "stdout"
        }
      ]
    },
    {
      "cell_type": "code",
      "metadata": {
        "id": "vI9vIOy59Cch",
        "colab_type": "code",
        "colab": {}
      },
      "source": [
        "def inOrder(root):\n",
        "  if root:\n",
        "    inOrder(root.left)\n",
        "    print(root.data)\n",
        "    inOrder(root.right)\n",
        "    \n",
        "    \n",
        "def inOrder_i(root,result):\n",
        "  if not root:\n",
        "    return\n",
        "  stack=[]\n",
        "  node = root \n",
        "  print(node)\n",
        "  while(node or stack):\n",
        "    if node:\n",
        "      stack.append(node)\n",
        "      node=node.left\n",
        "    else:\n",
        "      node=stack.pop()\n",
        "      result.append(node.data)\n",
        "      node=node.right\n",
        "  return result"
      ],
      "execution_count": 0,
      "outputs": []
    },
    {
      "cell_type": "code",
      "metadata": {
        "id": "GAGde8ok7iCd",
        "colab_type": "code",
        "colab": {
          "base_uri": "https://localhost:8080/",
          "height": 101
        },
        "outputId": "4b20e4a4-cf53-470e-dc3d-67f51309b9eb"
      },
      "source": [
        "result=inOrder_i(a,[])\n",
        "inOrder(a)\n",
        "print(result)"
      ],
      "execution_count": 6,
      "outputs": [
        {
          "output_type": "stream",
          "text": [
            "5\n",
            "4\n",
            "5\n",
            "6\n",
            "[4, 5, 6]\n"
          ],
          "name": "stdout"
        }
      ]
    },
    {
      "cell_type": "code",
      "metadata": {
        "id": "EtaHM-C97j9t",
        "colab_type": "code",
        "colab": {}
      },
      "source": [
        "def postOrder(root): \n",
        "    if root:  \n",
        "        postOrder(root.left) \n",
        "        postOrder(root.right)\n",
        "        print(root.data)    \n",
        "        \n",
        "        \n",
        "        \n",
        "def postOrder_i(root):\n",
        "  pass"
      ],
      "execution_count": 0,
      "outputs": []
    },
    {
      "cell_type": "code",
      "metadata": {
        "id": "FgKYLjpR91D_",
        "colab_type": "code",
        "colab": {
          "base_uri": "https://localhost:8080/",
          "height": 67
        },
        "outputId": "1e7388b6-c2bd-4f1a-8e11-32b5535a6194"
      },
      "source": [
        "postOrder(a)"
      ],
      "execution_count": 8,
      "outputs": [
        {
          "output_type": "stream",
          "text": [
            "4\n",
            "6\n",
            "5\n"
          ],
          "name": "stdout"
        }
      ]
    },
    {
      "cell_type": "code",
      "metadata": {
        "id": "hYMGIVHK93Zd",
        "colab_type": "code",
        "colab": {}
      },
      "source": [
        "def preOrder(root):\n",
        "  if root:\n",
        "    print(root.data)\n",
        "    preOrder(root.left)\n",
        "    preOrder(root.right)\n",
        "    \n",
        "def preOrder_i(root):\n",
        "  result=[]\n",
        "  stack=[]\n",
        "  stack.append(root)\n",
        "  while(stack):\n",
        "    node=stack.pop()\n",
        "    result.append(node.data)\n",
        "    if (node.right):\n",
        "      stack.append(node.right)\n",
        "    if (node.left):\n",
        "      stack.append(node.left)\n",
        "  return result"
      ],
      "execution_count": 0,
      "outputs": []
    },
    {
      "cell_type": "code",
      "metadata": {
        "id": "zCoW0lQj_9b7",
        "colab_type": "code",
        "colab": {
          "base_uri": "https://localhost:8080/",
          "height": 84
        },
        "outputId": "e55fe84b-b111-470f-cde3-d64b053699d6"
      },
      "source": [
        "print(preOrder_i(a))\n",
        "preOrder(a)"
      ],
      "execution_count": 10,
      "outputs": [
        {
          "output_type": "stream",
          "text": [
            "[5, 4, 6]\n",
            "5\n",
            "4\n",
            "6\n"
          ],
          "name": "stdout"
        }
      ]
    },
    {
      "cell_type": "code",
      "metadata": {
        "id": "xjGp6Uo0AAJY",
        "colab_type": "code",
        "colab": {}
      },
      "source": [
        "def postOrder_i(root):\n",
        "  result=[]\n",
        "  stack=[]\n",
        "  visited=set()\n",
        "  stack.append(root)\n",
        "  while(stack):\n",
        "    \n",
        "    node=stack[0]\n",
        "    print (node)\n",
        "    result.append(node.data)\n",
        "    if (node.right):\n",
        "      stack.append(node.right)\n",
        "    elif (node.left):\n",
        "      stack.append(node.left)\n",
        "    elif(node.data not in visited):\n",
        "      node=stack.pop()\n",
        "      print (node)\n",
        "      result.append(node.data)\n",
        "      visited.add(node.data)\n",
        "    \n",
        "  return result\n",
        "    \n",
        "  "
      ],
      "execution_count": 0,
      "outputs": []
    },
    {
      "cell_type": "code",
      "metadata": {
        "id": "ep-IfYykd2mj",
        "colab_type": "code",
        "colab": {}
      },
      "source": [
        "print(postOrder_i(a))"
      ],
      "execution_count": 0,
      "outputs": []
    },
    {
      "cell_type": "code",
      "metadata": {
        "id": "2Ny3VePuhUT2",
        "colab_type": "code",
        "colab": {}
      },
      "source": [
        "def lcs(X,Y):\n",
        "  if not X or not Y:\n",
        "    return \"\"\n",
        "  x,y,m,n=X[0],Y[0],X[1:],Y[1:]\n",
        "  print(X,Y)\n",
        "  if(x==y):\n",
        "    return x+lcs(m,n)\n",
        "  else:\n",
        "    return max(lcs(X,n),lcs(m,Y),key=len)"
      ],
      "execution_count": 0,
      "outputs": []
    },
    {
      "cell_type": "code",
      "metadata": {
        "id": "l2BvfjxOG0ft",
        "colab_type": "code",
        "colab": {
          "base_uri": "https://localhost:8080/",
          "height": 50
        },
        "outputId": "621b8243-6a18-4037-fa3c-c1e345ad2b83"
      },
      "source": [
        "if __name__ == \"__main__\":\n",
        "  first=input().rstrip().split()\n",
        "  n= int(first[0])\n",
        "  m=int(first[1])\n",
        "  c=list(map(int,input().rstrip().split()))"
      ],
      "execution_count": 2,
      "outputs": [
        {
          "output_type": "stream",
          "text": [
            "4 3\n",
            "1 2 3\n"
          ],
          "name": "stdout"
        }
      ]
    },
    {
      "cell_type": "code",
      "metadata": {
        "id": "C5kWcOybHomi",
        "colab_type": "code",
        "colab": {
          "base_uri": "https://localhost:8080/",
          "height": 34
        },
        "outputId": "f01ac7b8-75f6-4183-ee52-299375385497"
      },
      "source": [
        "print(n,m,c)"
      ],
      "execution_count": 3,
      "outputs": [
        {
          "output_type": "stream",
          "text": [
            "4 3 [1, 2, 3]\n"
          ],
          "name": "stdout"
        }
      ]
    },
    {
      "cell_type": "code",
      "metadata": {
        "id": "Jnwvpf2CHv19",
        "colab_type": "code",
        "colab": {}
      },
      "source": [
        "def getways(n,c):\n",
        "  \n",
        "  if n==0:\n",
        "    return 0\n",
        "  for i in range(len(c)):\n",
        "    if(c[i]>n):\n",
        "      return\n",
        "    else :\n",
        "      return 1+getways(n-c[i],c)\n",
        "      "
      ],
      "execution_count": 0,
      "outputs": []
    },
    {
      "cell_type": "code",
      "metadata": {
        "id": "uBZw6mc7KSmV",
        "colab_type": "code",
        "colab": {
          "base_uri": "https://localhost:8080/",
          "height": 118
        },
        "outputId": "2db6fd8c-d3a4-4cd2-dd5d-308d9f25459e"
      },
      "source": [
        "print(getways(4,[1,2,3]))"
      ],
      "execution_count": 18,
      "outputs": [
        {
          "output_type": "stream",
          "text": [
            "4 [1, 2, 3]\n",
            "3 [1, 2, 3]\n",
            "2 [1, 2, 3]\n",
            "1 [1, 2, 3]\n",
            "0 [1, 2, 3]\n",
            "4\n"
          ],
          "name": "stdout"
        }
      ]
    },
    {
      "cell_type": "code",
      "metadata": {
        "id": "G54TxKeBKWpa",
        "colab_type": "code",
        "colab": {
          "base_uri": "https://localhost:8080/",
          "height": 168
        },
        "outputId": "5d90bfe5-cb1d-483c-a05e-a255b4a061e6"
      },
      "source": [
        "  print(getways(10,[2,5,3,6]))\n",
        "\n",
        "print(getways(15,[49,22,45,6,11,20,30,10,46,8,32,48,2,41,43,5,39,16,28,44,14,4,27,36]))\n"
      ],
      "execution_count": 21,
      "outputs": [
        {
          "output_type": "stream",
          "text": [
            "10 [2, 5, 3, 6]\n",
            "8 [2, 5, 3, 6]\n",
            "6 [2, 5, 3, 6]\n",
            "4 [2, 5, 3, 6]\n",
            "2 [2, 5, 3, 6]\n",
            "0 [2, 5, 3, 6]\n",
            "5\n",
            "15 [49, 22, 45, 6, 11, 20, 30, 10, 46, 8, 32, 48, 2, 41, 43, 5, 39, 16, 28, 44, 14, 4, 27, 36]\n",
            "None\n"
          ],
          "name": "stdout"
        }
      ]
    },
    {
      "cell_type": "code",
      "metadata": {
        "id": "WPbIHzAxKxKy",
        "colab_type": "code",
        "colab": {
          "base_uri": "https://localhost:8080/",
          "height": 521
        },
        "outputId": "c123fb28-30c4-477d-f1a7-b67737ab1cde"
      },
      "source": [
        "def getWays(n, c):\n",
        "    # Complete this function\n",
        "    n_perms = [1]+[0]*n\n",
        "    print(n_perms)\n",
        "    for coin in c:\n",
        "        for i in range(coin, n+1):\n",
        "            n_perms[i] += n_perms[i-coin]\n",
        "            print(n_perms)\n",
        "    return n_perms[n]\n",
        "\n",
        "  \n",
        "\n",
        "# n, m = input().strip().split(' ')\n",
        "# n, m = [int(n), int(m)]\n",
        "# c = list(map(int, input().strip().split(' ')))\n",
        "\n",
        "print(getWays(10,[2,5,3,6]))\n",
        "# ways = getWays(n, c)\n",
        "# print(ways)"
      ],
      "execution_count": 28,
      "outputs": [
        {
          "output_type": "stream",
          "text": [
            "[1, 0, 0, 0, 0, 0, 0, 0, 0, 0, 0]\n",
            "[1, 0, 1, 0, 0, 0, 0, 0, 0, 0, 0]\n",
            "[1, 0, 1, 0, 0, 0, 0, 0, 0, 0, 0]\n",
            "[1, 0, 1, 0, 1, 0, 0, 0, 0, 0, 0]\n",
            "[1, 0, 1, 0, 1, 0, 0, 0, 0, 0, 0]\n",
            "[1, 0, 1, 0, 1, 0, 1, 0, 0, 0, 0]\n",
            "[1, 0, 1, 0, 1, 0, 1, 0, 0, 0, 0]\n",
            "[1, 0, 1, 0, 1, 0, 1, 0, 1, 0, 0]\n",
            "[1, 0, 1, 0, 1, 0, 1, 0, 1, 0, 0]\n",
            "[1, 0, 1, 0, 1, 0, 1, 0, 1, 0, 1]\n",
            "[1, 0, 1, 0, 1, 1, 1, 0, 1, 0, 1]\n",
            "[1, 0, 1, 0, 1, 1, 1, 0, 1, 0, 1]\n",
            "[1, 0, 1, 0, 1, 1, 1, 1, 1, 0, 1]\n",
            "[1, 0, 1, 0, 1, 1, 1, 1, 1, 0, 1]\n",
            "[1, 0, 1, 0, 1, 1, 1, 1, 1, 1, 1]\n",
            "[1, 0, 1, 0, 1, 1, 1, 1, 1, 1, 2]\n",
            "[1, 0, 1, 1, 1, 1, 1, 1, 1, 1, 2]\n",
            "[1, 0, 1, 1, 1, 1, 1, 1, 1, 1, 2]\n",
            "[1, 0, 1, 1, 1, 2, 1, 1, 1, 1, 2]\n",
            "[1, 0, 1, 1, 1, 2, 2, 1, 1, 1, 2]\n",
            "[1, 0, 1, 1, 1, 2, 2, 2, 1, 1, 2]\n",
            "[1, 0, 1, 1, 1, 2, 2, 2, 3, 1, 2]\n",
            "[1, 0, 1, 1, 1, 2, 2, 2, 3, 3, 2]\n",
            "[1, 0, 1, 1, 1, 2, 2, 2, 3, 3, 4]\n",
            "[1, 0, 1, 1, 1, 2, 3, 2, 3, 3, 4]\n",
            "[1, 0, 1, 1, 1, 2, 3, 2, 3, 3, 4]\n",
            "[1, 0, 1, 1, 1, 2, 3, 2, 4, 3, 4]\n",
            "[1, 0, 1, 1, 1, 2, 3, 2, 4, 4, 4]\n",
            "[1, 0, 1, 1, 1, 2, 3, 2, 4, 4, 5]\n",
            "5\n"
          ],
          "name": "stdout"
        }
      ]
    },
    {
      "cell_type": "code",
      "metadata": {
        "id": "4yGAe5xUVcf2",
        "colab_type": "code",
        "colab": {}
      },
      "source": [
        ""
      ],
      "execution_count": 0,
      "outputs": []
    }
  ]
}