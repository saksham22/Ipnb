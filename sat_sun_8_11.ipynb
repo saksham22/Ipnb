{
  "nbformat": 4,
  "nbformat_minor": 0,
  "metadata": {
    "colab": {
      "name": "sat_sun_8/11.ipynb",
      "version": "0.3.2",
      "provenance": [],
      "collapsed_sections": [],
      "include_colab_link": true
    },
    "kernelspec": {
      "name": "python3",
      "display_name": "Python 3"
    }
  },
  "cells": [
    {
      "cell_type": "markdown",
      "metadata": {
        "id": "view-in-github",
        "colab_type": "text"
      },
      "source": [
        "<a href=\"https://colab.research.google.com/github/saksham22/Ipnb/blob/master/sat_sun_8_11.ipynb\" target=\"_parent\"><img src=\"https://colab.research.google.com/assets/colab-badge.svg\" alt=\"Open In Colab\"/></a>"
      ]
    },
    {
      "cell_type": "code",
      "metadata": {
        "id": "7G21pUI_EkNc",
        "colab_type": "code",
        "outputId": "f84dcb9d-ed72-48cb-d86e-47d574d84d80",
        "colab": {
          "base_uri": "https://localhost:8080/",
          "height": 34
        }
      },
      "source": [
        "def seq_search(arr,ele):\n",
        "  for i in arr:\n",
        "    if(i==ele):\n",
        "      return 1\n",
        "  return 0 \n",
        "  \n",
        "  \n",
        "  \n",
        "seq_search([1,2,3,4,5,6,7,8,9],0)"
      ],
      "execution_count": 0,
      "outputs": [
        {
          "output_type": "execute_result",
          "data": {
            "text/plain": [
              "0"
            ]
          },
          "metadata": {
            "tags": []
          },
          "execution_count": 1
        }
      ]
    },
    {
      "cell_type": "code",
      "metadata": {
        "id": "-Y2F9CBTEz8W",
        "colab_type": "code",
        "outputId": "ab394a7d-0cfa-470f-8e9b-b43a0d4e781a",
        "colab": {
          "base_uri": "https://localhost:8080/",
          "height": 34
        }
      },
      "source": [
        "def bin_search(arr,ele):\n",
        "  start=0;\n",
        "  mid=0\n",
        "  end=len(arr)-1\n",
        "  while(start<end):\n",
        "    mid =int(start+end)/2\n",
        "    if(arr[int(mid)]==ele):\n",
        "      return 1\n",
        "    else:\n",
        "      if(ele<arr[int(mid)]):\n",
        "        end=mid-1\n",
        "      else:\n",
        "        start=mid+1\n",
        "      \n",
        "  return 0   \n",
        "bin_search([1,2,3,4,5,6,7,8,9],1)"
      ],
      "execution_count": 0,
      "outputs": [
        {
          "output_type": "execute_result",
          "data": {
            "text/plain": [
              "1"
            ]
          },
          "metadata": {
            "tags": []
          },
          "execution_count": 2
        }
      ]
    },
    {
      "cell_type": "code",
      "metadata": {
        "id": "L7pAEbuLGlov",
        "colab_type": "code",
        "outputId": "da3f2ff3-6b77-4ad0-d98c-47b75b958eca",
        "colab": {
          "base_uri": "https://localhost:8080/",
          "height": 370
        }
      },
      "source": [
        "\n",
        "\n",
        "\"\"\"\n",
        "This is bubble sort\n",
        "\n",
        "\n",
        "\n",
        "\"\"\"\n",
        "def bubble_sort(a):\n",
        "  for i in range(len(a)):\n",
        "    for j in range(len(a)-i-1):\n",
        "      print(a)\n",
        "      print(j,j+1)\n",
        "      if(a[j]>a[j+1]):\n",
        "        a[j],a[j+1]=a[j+1],a[j]\n",
        "   \n",
        "\n",
        "arr=[5,1,4,2,8]\n",
        "bubble_sort(arr)\n",
        "print(arr)"
      ],
      "execution_count": 0,
      "outputs": [
        {
          "output_type": "stream",
          "text": [
            "[5, 1, 4, 2, 8]\n",
            "0 1\n",
            "[1, 5, 4, 2, 8]\n",
            "1 2\n",
            "[1, 4, 5, 2, 8]\n",
            "2 3\n",
            "[1, 4, 2, 5, 8]\n",
            "3 4\n",
            "[1, 4, 2, 5, 8]\n",
            "0 1\n",
            "[1, 4, 2, 5, 8]\n",
            "1 2\n",
            "[1, 2, 4, 5, 8]\n",
            "2 3\n",
            "[1, 2, 4, 5, 8]\n",
            "0 1\n",
            "[1, 2, 4, 5, 8]\n",
            "1 2\n",
            "[1, 2, 4, 5, 8]\n",
            "0 1\n",
            "[1, 2, 4, 5, 8]\n"
          ],
          "name": "stdout"
        }
      ]
    },
    {
      "cell_type": "code",
      "metadata": {
        "id": "_-a1jua_Rb_m",
        "colab_type": "code",
        "outputId": "fa7e38a3-3849-4d47-c263-61ec1f4c0af5",
        "colab": {
          "base_uri": "https://localhost:8080/",
          "height": 538
        }
      },
      "source": [
        "def selection_sort(a):\n",
        "  for i in range(len(a)):\n",
        "    min=i\n",
        "    print(min)\n",
        "    for j in range(i,len(a)):\n",
        "      \n",
        "      print(i,j)\n",
        "      if(a[j]<a[min]):\n",
        "        min=j\n",
        "    print (min)\n",
        "        \n",
        "    a[i],a[min]=a[min],a[i]\n",
        "    print(a)\n",
        "  \n",
        "arr=[5,1,4,2,8]\n",
        "bubble_sort(arr)\n",
        "print(arr)"
      ],
      "execution_count": 0,
      "outputs": [
        {
          "output_type": "stream",
          "text": [
            "0\n",
            "0 0\n",
            "0 1\n",
            "0 2\n",
            "0 3\n",
            "0 4\n",
            "1\n",
            "[1, 5, 4, 2, 8]\n",
            "1\n",
            "1 1\n",
            "1 2\n",
            "1 3\n",
            "1 4\n",
            "3\n",
            "[1, 2, 4, 5, 8]\n",
            "2\n",
            "2 2\n",
            "2 3\n",
            "2 4\n",
            "2\n",
            "[1, 2, 4, 5, 8]\n",
            "3\n",
            "3 3\n",
            "3 4\n",
            "3\n",
            "[1, 2, 4, 5, 8]\n",
            "4\n",
            "4 4\n",
            "4\n",
            "[1, 2, 4, 5, 8]\n",
            "[1, 2, 4, 5, 8]\n"
          ],
          "name": "stdout"
        }
      ]
    },
    {
      "cell_type": "code",
      "metadata": {
        "id": "B45jvpY0aAT1",
        "colab_type": "code",
        "outputId": "765d11b2-0951-49e5-9ba7-7127300de820",
        "colab": {
          "base_uri": "https://localhost:8080/",
          "height": 34
        }
      },
      "source": [
        "def insertion_sort(a):\n",
        "  for i in range(1,len(a)):\n",
        "    j=i-1\n",
        "    ele=arr[i]\n",
        "    while(j>=0 and ele < a[j]):\n",
        "      a[j+1]=a[j]\n",
        "      j=j-1\n",
        "    a[j+1]=ele\n",
        "      \n",
        "      \n",
        "\n",
        "    \n",
        "arr=[5,1,4,2,8]\n",
        "insertion_sort(arr)\n",
        "print(arr)"
      ],
      "execution_count": 0,
      "outputs": [
        {
          "output_type": "stream",
          "text": [
            "[1, 2, 4, 5, 8]\n"
          ],
          "name": "stdout"
        }
      ]
    },
    {
      "cell_type": "code",
      "metadata": {
        "id": "XRYdhVmKP9tL",
        "colab_type": "code",
        "outputId": "ab76ef9f-8060-4582-ebe1-088b7106f5e0",
        "colab": {
          "base_uri": "https://localhost:8080/",
          "height": 302
        }
      },
      "source": [
        "def shell_sort(a):\n",
        "  gap=len(a)//2\n",
        "  while(gap>0):\n",
        "    for i in range(gap,len(a),gap):\n",
        "      ele=arr[i]\n",
        "      j=i\n",
        "      while(j>=gap and ele < a[j-gap]):\n",
        "        print(i,j,gap,ele)\n",
        "        print(a)\n",
        "        print(\"swap\")\n",
        "        a[j]=a[j-gap]\n",
        "        j=j-gap\n",
        "        print(a)\n",
        "      a[j]=ele\n",
        "    gap=gap//2\n",
        "    \n",
        "    \n",
        "arr=[5,1,4,2,8]\n",
        "shell_sort(arr)\n",
        "print(arr)"
      ],
      "execution_count": 0,
      "outputs": [
        {
          "output_type": "stream",
          "text": [
            "2 2 2 4\n",
            "[5, 1, 4, 2, 8]\n",
            "swap\n",
            "[5, 1, 5, 2, 8]\n",
            "1 1 1 1\n",
            "[4, 1, 5, 2, 8]\n",
            "swap\n",
            "[4, 4, 5, 2, 8]\n",
            "3 3 1 2\n",
            "[1, 4, 5, 2, 8]\n",
            "swap\n",
            "[1, 4, 5, 5, 8]\n",
            "3 2 1 2\n",
            "[1, 4, 5, 5, 8]\n",
            "swap\n",
            "[1, 4, 4, 5, 8]\n",
            "[1, 2, 4, 5, 8]\n"
          ],
          "name": "stdout"
        }
      ]
    },
    {
      "cell_type": "code",
      "metadata": {
        "id": "GbBoPw-kU7qH",
        "colab_type": "code",
        "outputId": "e06c9574-322f-48ee-b5f6-bcb9fa17bf86",
        "colab": {
          "base_uri": "https://localhost:8080/",
          "height": 235
        }
      },
      "source": [
        "def merdgesort(arr):\n",
        "    if(len(arr)>1):\n",
        "        mid=len(arr)//2\n",
        "        l=arr[:mid]\n",
        "        r=arr[mid:]\n",
        "        print(l)\n",
        "        print(r)\n",
        "        merdgesort(l)\n",
        "        merdgesort(r)\n",
        "        merdge(l,r,arr)\n",
        "        print(arr)\n",
        "def merdge(L,R,A):\n",
        "    i=0\n",
        "    j=0\n",
        "    k=0\n",
        "    while(i<len(L) and j<len(R)):\n",
        "        if(L[i]<R[j]):\n",
        "            A[k]=L[i]\n",
        "            i=i+1\n",
        "            k=k+1\n",
        "        else:\n",
        "            A[k]=R[j]\n",
        "            j=j+1\n",
        "            k=k+1\n",
        "    while(i<len(L)):\n",
        "        A[k]=L[i]\n",
        "        i=i+1\n",
        "        k=k+1\n",
        "\n",
        "    while(j<len(R)):\n",
        "        A[k]=R[j]\n",
        "        j=j+1\n",
        "        k=k+1\n",
        "\n",
        "\n",
        "a=[5,2,8,7,6]\n",
        "merdgesort(a)\n",
        "print(a)"
      ],
      "execution_count": 0,
      "outputs": [
        {
          "output_type": "stream",
          "text": [
            "[5, 2]\n",
            "[8, 7, 6]\n",
            "[5]\n",
            "[2]\n",
            "[2, 5]\n",
            "[8]\n",
            "[7, 6]\n",
            "[7]\n",
            "[6]\n",
            "[6, 7]\n",
            "[6, 7, 8]\n",
            "[2, 5, 6, 7, 8]\n",
            "[2, 5, 6, 7, 8]\n"
          ],
          "name": "stdout"
        }
      ]
    },
    {
      "cell_type": "code",
      "metadata": {
        "id": "mvKq0qWzOBiR",
        "colab_type": "code",
        "colab": {}
      },
      "source": [
        "def quick_sort(arr):\n",
        "  pass\n"
      ],
      "execution_count": 0,
      "outputs": []
    },
    {
      "cell_type": "code",
      "metadata": {
        "id": "zXOOxH3swYXW",
        "colab_type": "code",
        "colab": {
          "base_uri": "https://localhost:8080/",
          "height": 202
        },
        "outputId": "131ef556-a5d2-478c-bee3-18f7feb172a5"
      },
      "source": [
        "def max_sub_arr_sun(arr):\n",
        "  maxsum=arr[0]\n",
        "  for i in range(1,len(arr)):\n",
        "    if(arr[i-1]>0):\n",
        "      arr[i]=arr[i]+arr[i-1]\n",
        "      maxsum=arr[i]\n",
        "      print(maxsum)\n",
        "    \n",
        "  print(arr)\n",
        "  print(max(arr))\n",
        "  \n",
        "a=[5,21,-28,7,6]\n",
        "max_sub_arr_sun(a)\n",
        "a=[1,2,3,-2,5]\n",
        "max_sub_arr_sun(a)\n"
      ],
      "execution_count": 18,
      "outputs": [
        {
          "output_type": "stream",
          "text": [
            "26\n",
            "-2\n",
            "13\n",
            "[5, 26, -2, 7, 13]\n",
            "26\n",
            "3\n",
            "6\n",
            "4\n",
            "9\n",
            "[1, 3, 6, 4, 9]\n",
            "9\n"
          ],
          "name": "stdout"
        }
      ]
    },
    {
      "cell_type": "code",
      "metadata": {
        "id": "HSjkMO-32tWU",
        "colab_type": "code",
        "colab": {
          "base_uri": "https://localhost:8080/",
          "height": 67
        },
        "outputId": "1944c8a7-3e69-41b8-ab4a-13cf99bc8414"
      },
      "source": [
        "from functools import cmp_to_key\n",
        "class Player:\n",
        "    def __init__(self, name, score):\n",
        "        self.name=name\n",
        "        self.score=score\n",
        "    def __repr__(self):\n",
        "        print(self.name+\" \"+self.score)\n",
        "        \n",
        "    def comparator(a, b):\n",
        "        print(a.score)\n",
        "        print(b.score)\n",
        "        if(a.score > b.score):\n",
        "            return a.score\n",
        "        else:\n",
        "            return b.score\n",
        "\n",
        "          \n",
        "n = int(input())\n",
        "data = []\n",
        "\n",
        "for i in range(n):\n",
        "    name, score = input().split()\n",
        "    score = int(score)\n",
        "    player = Player(name, score)\n",
        "    data.append(player)\n",
        "    \n",
        "data = sorted(data, key=cmp_to_key(Player.comparator))\n",
        "for i in data:\n",
        "    print(i.name, i.score)"
      ],
      "execution_count": 8,
      "outputs": [
        {
          "output_type": "stream",
          "text": [
            "1\n",
            "amty 12\n",
            "amty 12\n"
          ],
          "name": "stdout"
        }
      ]
    },
    {
      "cell_type": "code",
      "metadata": {
        "id": "UgqAgnrclQGL",
        "colab_type": "code",
        "colab": {}
      },
      "source": [
        ""
      ],
      "execution_count": 0,
      "outputs": []
    }
  ]
}